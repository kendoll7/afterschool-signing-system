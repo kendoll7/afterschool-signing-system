{
 "cells": [
  {
   "cell_type": "code",
   "execution_count": 5,
   "id": "ed8683e7",
   "metadata": {},
   "outputs": [],
   "source": [
    "import pandas as pd\n",
    "from IPython.display import clear_output\n",
    "import sys\n",
    "import time"
   ]
  },
  {
   "cell_type": "code",
   "execution_count": null,
   "id": "b5fe6fa8",
   "metadata": {},
   "outputs": [],
   "source": [
    "def sign_up():\n",
    "    username = input(\"Enter a username: \")\n",
    "    password = input(\"Enter a password: \")\n",
    "\n",
    "    # Store the credentials in a text file\n",
    "    with open(\"user_credentials.txt\", \"a\") as file:\n",
    "        file.write(f\"{username},{password}\\n\")\n",
    "    \n",
    "    \n",
    "    # Clear the output\n",
    "    clear_output(wait=True)\n",
    "    print(\"Account created successfully!\")\n",
    "\n",
    "\n",
    "def sign_in():\n",
    "    username = input(\"Enter your username: \")\n",
    "    password = input(\"Enter your password: \")\n",
    "\n",
    "    # Check if the credentials match with any stored user\n",
    "    with open(\"user_credentials.txt\", \"r\") as file:\n",
    "        for line in file:\n",
    "            stored_username, stored_password = line.strip().split(',')\n",
    "            if username == stored_username and password == stored_password:\n",
    "                print(\"Sign in successful!\")\n",
    "                return\n",
    "    print(\"Invalid username or password.\")\n",
    "\n",
    "\n",
    "def main():\n",
    "    while True:\n",
    "        choice = input(\"Choose an option: (1) Sign Up (2) Sign In (3) Exit\\n\")\n",
    "        if choice == '1':\n",
    "            sign_up()\n",
    "        elif choice == '2':\n",
    "            sign_in()\n",
    "        elif choice == '3':\n",
    "            print(\"Exiting...\")\n",
    "            break\n",
    "        else:\n",
    "            print(\"Invalid choice. Please try again.\")\n",
    "\n",
    "        # Check if 30 seconds have elapsed\n",
    "        if time.time() - start_time >= 30:\n",
    "            print(\"Automatic exit after 30 seconds.\")\n",
    "            break\n",
    "\n",
    "if __name__ == \"__main__\":\n",
    "    main()\n"
   ]
  },
  {
   "cell_type": "code",
   "execution_count": null,
   "id": "309013d4",
   "metadata": {},
   "outputs": [],
   "source": []
  }
 ],
 "metadata": {
  "kernelspec": {
   "display_name": "Python 3 (ipykernel)",
   "language": "python",
   "name": "python3"
  },
  "language_info": {
   "codemirror_mode": {
    "name": "ipython",
    "version": 3
   },
   "file_extension": ".py",
   "mimetype": "text/x-python",
   "name": "python",
   "nbconvert_exporter": "python",
   "pygments_lexer": "ipython3",
   "version": "3.11.4"
  }
 },
 "nbformat": 4,
 "nbformat_minor": 5
}
